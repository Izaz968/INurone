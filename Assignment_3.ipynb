{
 "cells": [
  {
   "cell_type": "code",
   "execution_count": null,
   "id": "68594a86",
   "metadata": {},
   "outputs": [],
   "source": [
    "#1. Why are functions advantageous to have in your programs?\n",
    "'''Ans-\n",
    "    Functions reduce the need for duplicate code. This makes programs shorter, easier to read, and easier to update.'''"
   ]
  },
  {
   "cell_type": "code",
   "execution_count": null,
   "id": "b5b2f4b6",
   "metadata": {},
   "outputs": [],
   "source": [
    "#2. When does the code in a function run: when it's specified or when it's called?\n",
    "'''Ans-\n",
    "    The code in a function executes when the function is called'''"
   ]
  },
  {
   "cell_type": "code",
   "execution_count": null,
   "id": "c14bf5a2",
   "metadata": {},
   "outputs": [],
   "source": [
    "#3. What statement creates a function?\n",
    "'''Ans-\n",
    "    'def' statement'''\n"
   ]
  },
  {
   "cell_type": "code",
   "execution_count": null,
   "id": "ae4572fe",
   "metadata": {},
   "outputs": [],
   "source": [
    "#4. What is the difference between a function and a function call?\n",
    "'''Ans-\n",
    "    A function consists of the def statement and the code in its def clause.\n",
    "A function call is what moves the program execution into the function, \n",
    "and the function call evaluates to the function's return value.'''"
   ]
  },
  {
   "cell_type": "code",
   "execution_count": null,
   "id": "192402c9",
   "metadata": {},
   "outputs": [],
   "source": [
    "#5. How many global scopes are there in a Python program? How many local scopes?\n",
    "'''Ans-\n",
    "    There is one global scope, and a local scope is created whenever a function is called.\n",
    "'''"
   ]
  },
  {
   "cell_type": "code",
   "execution_count": null,
   "id": "c9988326",
   "metadata": {},
   "outputs": [],
   "source": [
    "#6. What happens to variables in a local scope when the function call returns?\n",
    "'''Ans-\n",
    "    When a function returns, the local scope is destroyed, and all the variables in it are forgotten.'''"
   ]
  },
  {
   "cell_type": "code",
   "execution_count": null,
   "id": "a2d01fe4",
   "metadata": {},
   "outputs": [],
   "source": [
    "#7. What is the concept of a return value? Is it possible to have a return value in an expression?\n",
    "'''Ans-\n",
    "    A return value is the value that a function call evaluates to. Like any value, \n",
    "    a return value can be used as part of an expression.'''"
   ]
  },
  {
   "cell_type": "code",
   "execution_count": 5,
   "id": "6e859d5c",
   "metadata": {},
   "outputs": [
    {
     "name": "stdout",
     "output_type": "stream",
     "text": [
      "None\n"
     ]
    }
   ],
   "source": [
    "#8. If a function does not have a return statement, what is the return value of a call to that function?\n",
    "'''Ans-\n",
    "    return value is None.'''\n",
    "def add(a,b):\n",
    "    total= a+b\n",
    "    #return total\n",
    "\n",
    "output= add(2,3)\n",
    "print(output)"
   ]
  },
  {
   "cell_type": "code",
   "execution_count": null,
   "id": "eaaf491f",
   "metadata": {},
   "outputs": [],
   "source": [
    "#9. How do you make a function variable refer to the global variable?\n",
    "'''Ans-\n",
    "    by A global statement '''"
   ]
  },
  {
   "cell_type": "code",
   "execution_count": null,
   "id": "9077f6de",
   "metadata": {},
   "outputs": [],
   "source": [
    "#10. What is the data type of None?\n",
    "'''Ans-\n",
    "    NoneType'''"
   ]
  },
  {
   "cell_type": "code",
   "execution_count": 6,
   "id": "04cc24b0",
   "metadata": {},
   "outputs": [
    {
     "ename": "ModuleNotFoundError",
     "evalue": "No module named 'areallyourpetsnamederic'",
     "output_type": "error",
     "traceback": [
      "\u001b[1;31m---------------------------------------------------------------------------\u001b[0m",
      "\u001b[1;31mModuleNotFoundError\u001b[0m                       Traceback (most recent call last)",
      "Input \u001b[1;32mIn [6]\u001b[0m, in \u001b[0;36m<cell line: 2>\u001b[1;34m()\u001b[0m\n\u001b[0;32m      1\u001b[0m \u001b[38;5;66;03m#11. What does the sentence import areallyourpetsnamederic do?\u001b[39;00m\n\u001b[1;32m----> 2\u001b[0m \u001b[38;5;28;01mimport\u001b[39;00m \u001b[38;5;21;01mareallyourpetsnamederic\u001b[39;00m\n",
      "\u001b[1;31mModuleNotFoundError\u001b[0m: No module named 'areallyourpetsnamederic'"
     ]
    }
   ],
   "source": [
    "#11. What does the sentence import areallyourpetsnamederic do?\n",
    "'''Ans-\n",
    "    That import statement imports a module named areallyourpetsnamederic. (This isn't a real Python module)'''\n",
    "import areallyourpetsnamederic"
   ]
  },
  {
   "cell_type": "code",
   "execution_count": null,
   "id": "757960cd",
   "metadata": {},
   "outputs": [],
   "source": [
    "#12. If you had a bacon() feature in a spam module, what would you call it after importing spam?\n",
    "'''Ans-\n",
    "    spam.bacon()'''"
   ]
  },
  {
   "cell_type": "code",
   "execution_count": null,
   "id": "e01ea16a",
   "metadata": {},
   "outputs": [],
   "source": [
    "#13. What can you do to save a programme from crashing if it encounters an error?\n",
    "'''Ans-\n",
    "    Place the line of code that might cause an error in a try clause'''"
   ]
  },
  {
   "cell_type": "code",
   "execution_count": null,
   "id": "da764436",
   "metadata": {},
   "outputs": [],
   "source": [
    "#14. What is the purpose of the try clause? What is the purpose of the except clause?\n",
    "'''Ans-\n",
    "    With Try clause we can prevent a code from crashing. With except clause we can execute a error causing code'''"
   ]
  }
 ],
 "metadata": {
  "kernelspec": {
   "display_name": "Python 3 (ipykernel)",
   "language": "python",
   "name": "python3"
  },
  "language_info": {
   "codemirror_mode": {
    "name": "ipython",
    "version": 3
   },
   "file_extension": ".py",
   "mimetype": "text/x-python",
   "name": "python",
   "nbconvert_exporter": "python",
   "pygments_lexer": "ipython3",
   "version": "3.9.7"
  }
 },
 "nbformat": 4,
 "nbformat_minor": 5
}
