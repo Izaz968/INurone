{
 "cells": [
  {
   "cell_type": "code",
   "execution_count": null,
   "id": "46332f28",
   "metadata": {},
   "outputs": [],
   "source": [
    "#1. What are escape characters, and how do you use them?\n",
    "\n",
    "'''In Python strings, the backslash \"\\\" is a special character, also called the \"escape\" character. \n",
    "'''"
   ]
  },
  {
   "cell_type": "code",
   "execution_count": null,
   "id": "06facc6d",
   "metadata": {},
   "outputs": [],
   "source": [
    "#2. What do the escape characters n and t stand for?\n",
    "\n",
    "'''\"\\t\" is a tab, \"\\n\" is a newline,'''"
   ]
  },
  {
   "cell_type": "code",
   "execution_count": null,
   "id": "758247cd",
   "metadata": {},
   "outputs": [],
   "source": [
    "#3. What is the way to include backslash characters in a string?\n",
    "\n",
    "'''Using two backslashes. For example, “\\\\string”\n",
    "Using the @ verbatim string literal. For example, @”\\string”'''"
   ]
  },
  {
   "cell_type": "code",
   "execution_count": null,
   "id": "c4914292",
   "metadata": {},
   "outputs": [],
   "source": [
    "#4. The string \"Howl's Moving Castle\" is a correct value. Why isn't the single quote character in the word Howl's not escaped a problem?\n",
    "\n",
    "'''The single quote in Howl's is fine because you've used double quotes to mark the beginning and end of the string.'''"
   ]
  },
  {
   "cell_type": "code",
   "execution_count": null,
   "id": "d0bd65c4",
   "metadata": {},
   "outputs": [],
   "source": [
    "#5. How do you write a string of newlines if you don't want to use the n character?\n",
    "\n",
    "'''Multiline strings allow you to use newlines in strings without the \\n escape character.'''"
   ]
  },
  {
   "cell_type": "code",
   "execution_count": 8,
   "id": "379b467d",
   "metadata": {},
   "outputs": [
    {
     "data": {
      "text/plain": [
       "'lo, world!'"
      ]
     },
     "execution_count": 8,
     "metadata": {},
     "output_type": "execute_result"
    }
   ],
   "source": [
    "#6. What are the values of the given expressions?\n",
    "\n",
    "\n",
    "'Hello, world!'[1]    # e\n",
    "'Hello, world!'[0:5]  # Hello\n",
    "'Hello, world!'[:5]   # Hello\n",
    "'Hello, world!'[3:]   # lo, world!"
   ]
  },
  {
   "cell_type": "code",
   "execution_count": null,
   "id": "2e18611c",
   "metadata": {},
   "outputs": [],
   "source": [
    "#7. What are the values of the following expressions?\n",
    "\n",
    "'Hello'.upper()               # HELLO\n",
    "'Hello'.upper().isupper()     # True\n",
    "'Hello'.upper().lower()       # hello"
   ]
  },
  {
   "cell_type": "code",
   "execution_count": 9,
   "id": "767da355",
   "metadata": {},
   "outputs": [
    {
     "data": {
      "text/plain": [
       "'There-can-only-one.'"
      ]
     },
     "execution_count": 9,
     "metadata": {},
     "output_type": "execute_result"
    }
   ],
   "source": [
    "#8. What are the values of the following expressions?\n",
    "\n",
    "'Remember, remember, the fifth of July.'.split()\n",
    "#['Remember,', 'remember,', 'the', 'fifth', 'of', 'July.']\n",
    "\n",
    "'-'.join('There can only one.'.split())\n",
    "#'There-can-only-one.'"
   ]
  },
  {
   "cell_type": "code",
   "execution_count": 12,
   "id": "545caa95",
   "metadata": {},
   "outputs": [
    {
     "name": "stdout",
     "output_type": "stream",
     "text": [
      "                 All is well\n"
     ]
    }
   ],
   "source": [
    "#9. What are the methods for right-justifying, left-justifying, and centering a string?\n",
    "\n",
    "'''rjust(), ljust(), and center() string methods, respectively'''\n",
    "txt=\"All\"\n",
    "x= txt.rjust(20)\n",
    "print(x,\"is well\")\n",
    "\n",
    "\n"
   ]
  },
  {
   "cell_type": "code",
   "execution_count": null,
   "id": "48b42804",
   "metadata": {},
   "outputs": [],
   "source": [
    "#10. What is the best way to remove whitespace characters from the start or end?\n",
    "\n",
    "'''rstrip(), lstrip'''"
   ]
  }
 ],
 "metadata": {
  "kernelspec": {
   "display_name": "Python 3 (ipykernel)",
   "language": "python",
   "name": "python3"
  },
  "language_info": {
   "codemirror_mode": {
    "name": "ipython",
    "version": 3
   },
   "file_extension": ".py",
   "mimetype": "text/x-python",
   "name": "python",
   "nbconvert_exporter": "python",
   "pygments_lexer": "ipython3",
   "version": "3.9.7"
  }
 },
 "nbformat": 4,
 "nbformat_minor": 5
}
