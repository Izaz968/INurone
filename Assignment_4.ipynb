{
 "cells": [
  {
   "cell_type": "code",
   "execution_count": null,
   "id": "b0ef633c",
   "metadata": {},
   "outputs": [],
   "source": [
    "#1. What exactly is []?\n",
    "'''Ans-\n",
    "Index brackets ([]). First, they are used to define \"list literals,\" \n",
    "allowing you to declare a list and its contents in your program'''\n"
   ]
  },
  {
   "cell_type": "code",
   "execution_count": 2,
   "id": "ff8ee556",
   "metadata": {},
   "outputs": [
    {
     "name": "stdout",
     "output_type": "stream",
     "text": [
      "[2, 4, 'hello', 8, 10]\n"
     ]
    }
   ],
   "source": [
    "#2. In a list of values stored in a variable called spam, how would you assign the value 'hello' as the third value? (Assume [2, 4, 6, 8, 10] are in spam.)\n",
    "\n",
    "spam= [2, 4, 6, 8, 10]\n",
    "spam[2]=\"hello\"\n",
    "print(spam)"
   ]
  },
  {
   "cell_type": "code",
   "execution_count": 5,
   "id": "ef957dd6",
   "metadata": {},
   "outputs": [
    {
     "data": {
      "text/plain": [
       "['a', 'b']"
      ]
     },
     "execution_count": 5,
     "metadata": {},
     "output_type": "execute_result"
    }
   ],
   "source": [
    "#Let's pretend the spam includes the list ['a', 'b', 'c', 'd'] for the next three queries.\n",
    "#3. What is the value of spam[int(int('3' * 2) / 11)]?\n",
    "#4. What is the value of spam[-1]?\n",
    "#5. What is the value of spam[:2]?\n",
    "\n",
    "spam=['a', 'b', 'c', 'd']\n",
    "spam[int(int('3' * 2) / 11)] #3*2 become 33 /11 = 3 value will be d\n",
    "spam[-1] #value is d\n",
    "spam[:2] #value is a,b\n"
   ]
  },
  {
   "cell_type": "code",
   "execution_count": 11,
   "id": "7dfcd173",
   "metadata": {},
   "outputs": [],
   "source": [
    "#Let's pretend bacon has the list [3.14, 'cat,' 11, 'cat,' True] for the next three questions.\n",
    "#6. What is the value of bacon.index('cat')?\n",
    "#7. How does bacon.append(99) change the look of the list value in bacon?\n",
    "#8. How does bacon.remove('cat') change the look of the list in bacon?\n",
    "\n",
    "bacon=[3.14, 'cat', 11, 'cat', True]\n",
    "bacon.index('cat') #value is 1\n",
    "bacon.append(99) #it will add 99 at 5th index [3.14, 'cat', 11, 'cat', True, 99]\n",
    "bacon.remove('cat') #it will remove the very first 'cat' [3.14, 11, 'cat', True, 99]"
   ]
  },
  {
   "cell_type": "code",
   "execution_count": 12,
   "id": "ff55c84a",
   "metadata": {},
   "outputs": [
    {
     "name": "stdout",
     "output_type": "stream",
     "text": [
      "[3.14, 11, 'cat', True, 99]\n"
     ]
    }
   ],
   "source": [
    "print(bacon)"
   ]
  },
  {
   "cell_type": "code",
   "execution_count": null,
   "id": "ae1f6933",
   "metadata": {},
   "outputs": [],
   "source": [
    "#9. What are the list concatenation and list replication operators?\n",
    "\n",
    "'''The operator for list concatenation is +, while the operator for replication is *'''"
   ]
  },
  {
   "cell_type": "code",
   "execution_count": null,
   "id": "624747ee",
   "metadata": {},
   "outputs": [],
   "source": [
    "#10. What is difference between the list methods append() and insert()?\n",
    "\n",
    "'''append will add values at the end of the list and insert will add the values anywhere in the list'''"
   ]
  },
  {
   "cell_type": "code",
   "execution_count": null,
   "id": "d006ad86",
   "metadata": {},
   "outputs": [],
   "source": [
    "#11. What are the two methods for removing items from a list?\n",
    "\n",
    "'''list.del[]\n",
    "   list.remove()\n",
    "   list.pop()'''"
   ]
  },
  {
   "cell_type": "code",
   "execution_count": null,
   "id": "7df4c435",
   "metadata": {},
   "outputs": [],
   "source": [
    "#12. Describe how list values and string values are identical.\n",
    "\n",
    "\n",
    "'''Both lists and strings can be passed to len(), have indexes and slices, be used in for loops,\n",
    "be concatenated or replicated, and be used with the in and not in operators.'''"
   ]
  },
  {
   "cell_type": "code",
   "execution_count": null,
   "id": "952f8367",
   "metadata": {},
   "outputs": [],
   "source": [
    "#13. What's the difference between tuples and lists?\n",
    "\n",
    "\n",
    "'''Lists are mutable; they can have values added, removed, or changed. Tuples are immutable; they cannot be changed at all.\n",
    "Also, tuples are written using parentheses, ( ), while lists use the square brackets, [ ]'''"
   ]
  },
  {
   "cell_type": "code",
   "execution_count": null,
   "id": "a569bd9e",
   "metadata": {},
   "outputs": [],
   "source": [
    "#14. How do you type a tuple value that only contains the integer 42?\n",
    "\n",
    "'''(42,) (The trailing comma is mandatory)'''"
   ]
  },
  {
   "cell_type": "code",
   "execution_count": 14,
   "id": "aa3dc2d3",
   "metadata": {},
   "outputs": [
    {
     "name": "stdout",
     "output_type": "stream",
     "text": [
      "[10, 20, 30, 40, 50]\n"
     ]
    }
   ],
   "source": [
    "#15. How do you get a list value's tuple form? How do you get a tuple value's list form?\n",
    "\n",
    "'''list()\n",
    "   tuple()'''\n",
    "value = (10, 20, 30, 40, 50)\n",
    "my_tuple = list(value)\n",
    "print(my_tuple)"
   ]
  },
  {
   "cell_type": "code",
   "execution_count": null,
   "id": "d799780d",
   "metadata": {},
   "outputs": [],
   "source": [
    "#16. Variables that \"contain\" list values are not necessarily lists themselves. Instead, what do they contain?\n",
    "\n",
    "'''They contain references to list values.'''"
   ]
  },
  {
   "cell_type": "code",
   "execution_count": null,
   "id": "d719c672",
   "metadata": {},
   "outputs": [],
   "source": [
    "#17. How do you distinguish between copy.copy() and copy.deepcopy()?\n",
    "\n",
    "\n",
    "'''The copy.copy() function will do a shallow copy of a list, while the copy.deepcopy() function will do a \n",
    "deep copy of a list. That is, only copy.deepcopy() will duplicate any lists inside the list.'''"
   ]
  }
 ],
 "metadata": {
  "kernelspec": {
   "display_name": "Python 3 (ipykernel)",
   "language": "python",
   "name": "python3"
  },
  "language_info": {
   "codemirror_mode": {
    "name": "ipython",
    "version": 3
   },
   "file_extension": ".py",
   "mimetype": "text/x-python",
   "name": "python",
   "nbconvert_exporter": "python",
   "pygments_lexer": "ipython3",
   "version": "3.9.7"
  }
 },
 "nbformat": 4,
 "nbformat_minor": 5
}
